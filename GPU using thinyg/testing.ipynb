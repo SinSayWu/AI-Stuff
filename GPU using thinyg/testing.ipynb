{
 "cells": [
  {
   "cell_type": "code",
   "execution_count": 1,
   "metadata": {},
   "outputs": [
    {
     "name": "stdout",
     "output_type": "stream",
     "text": [
      "PyTorch Version: 2.5.1+cu121\n",
      "CUDA Available: True\n",
      "GPU Name: NVIDIA GeForce RTX 3050 6GB Laptop GPU\n"
     ]
    }
   ],
   "source": [
    "import torch\n",
    "\n",
    "print(\"PyTorch Version:\", torch.__version__)\n",
    "print(\"CUDA Available:\", torch.cuda.is_available())\n",
    "if torch.cuda.is_available():\n",
    "    print(\"GPU Name:\", torch.cuda.get_device_name(0))\n"
   ]
  },
  {
   "cell_type": "code",
   "execution_count": 2,
   "metadata": {},
   "outputs": [
    {
     "name": "stdout",
     "output_type": "stream",
     "text": [
      "Tensor Computation on GPU:\n",
      "tensor([[ 0.3550,  1.6852, -0.7725],\n",
      "        [ 0.2037, -3.4249,  1.6008],\n",
      "        [-0.5354,  0.4984, -0.3330]], device='cuda:0')\n"
     ]
    }
   ],
   "source": [
    "# Move tensor operations to GPU\n",
    "device = torch.device(\"cuda\" if torch.cuda.is_available() else \"cpu\")\n",
    "\n",
    "# Create random tensors\n",
    "a = torch.randn(3, 3).to(device)\n",
    "b = torch.randn(3, 3).to(device)\n",
    "\n",
    "# Perform matrix multiplication\n",
    "result = torch.mm(a, b)\n",
    "\n",
    "print(\"Tensor Computation on GPU:\")\n",
    "print(result)\n"
   ]
  },
  {
   "cell_type": "code",
   "execution_count": 3,
   "metadata": {},
   "outputs": [
    {
     "name": "stdout",
     "output_type": "stream",
     "text": [
      "tensor([[1255.1343, 1246.8629, 1257.0663,  ..., 1245.3501, 1253.5385,\n",
      "         1243.4995],\n",
      "        [1230.3698, 1230.8740, 1240.1144,  ..., 1233.4709, 1249.7870,\n",
      "         1242.0094],\n",
      "        [1273.0566, 1271.9705, 1256.6255,  ..., 1262.0961, 1267.4065,\n",
      "         1265.0436],\n",
      "        ...,\n",
      "        [1245.3228, 1243.6532, 1244.3282,  ..., 1248.5726, 1263.6300,\n",
      "         1246.3740],\n",
      "        [1242.9178, 1249.6007, 1245.7539,  ..., 1243.4437, 1261.0182,\n",
      "         1237.9288],\n",
      "        [1270.8845, 1268.6421, 1264.0729,  ..., 1268.0360, 1270.5399,\n",
      "         1262.8727]])\n"
     ]
    }
   ],
   "source": [
    "import torch\n",
    "\n",
    "# Create large matrices\n",
    "matrixA = torch.rand(5000, 5000)  # Move to GPU\n",
    "matrixB = torch.rand(5000, 5000)\n",
    "\n",
    "# Matrix multiplication\n",
    "result = torch.mm(matrixA, matrixB)\n",
    "print(result)\n"
   ]
  },
  {
   "cell_type": "code",
   "execution_count": null,
   "metadata": {},
   "outputs": [
    {
     "data": {
      "image/png": "[encoded data removed]",
      "text/plain": [
       "<Figure size 500x500 with 1 Axes>"
      ]
     },
     "metadata": {},
     "output_type": "display_data"
    }
   ],
   "source": [
    "import torch\n",
    "import torch.nn as nn\n",
    "import torch.optim as optim\n",
    "from torch.utils.data import DataLoader\n",
    "from torchvision import datasets, transforms\n",
    "\n",
    "# Set device - GPU if available, else CPU\n",
    "device = torch.device(\"cuda\" if torch.cuda.is_available() else \"cpu\")\n",
    "\n",
    "# Define a simple feedforward neural network\n",
    "class SimpleNN(nn.Module):\n",
    "    def __init__(self):\n",
    "        super(SimpleNN, self).__init__()\n",
    "        self.fc1 = nn.Linear(28 * 28, 128)  # 28x28 images (flattened to 784)\n",
    "        self.fc2 = nn.Linear(128, 64)\n",
    "        self.fc3 = nn.Linear(64, 10)  # 10 output classes (for digits 0-9)\n",
    "\n",
    "    def forward(self, x):\n",
    "        x = torch.relu(self.fc1(x))  # Apply ReLU activation\n",
    "        x = torch.relu(self.fc2(x))  # Apply ReLU activation\n",
    "        x = self.fc3(x)  # Output layer (no activation for raw scores)\n",
    "        return x\n",
    "\n",
    "# Initialize model and move it to device\n",
    "model = SimpleNN().to(device)\n",
    "\n",
    "# Define the transformation for the MNIST dataset\n",
    "transform = transforms.Compose([\n",
    "    transforms.ToTensor(),  # Convert images to PyTorch tensors\n",
    "    transforms.Normalize((0.5,), (0.5,))  # Normalize the image (mean=0.5, std=0.5)\n",
    "])\n",
    "\n",
    "# Load the MNIST dataset\n",
    "train_dataset = datasets.MNIST(root='./data', train=True, download=True, transform=transform)\n",
    "test_dataset = datasets.MNIST(root='./data', train=False, download=True, transform=transform)\n",
    "\n",
    "# Create DataLoader for batching\n",
    "train_loader = DataLoader(train_dataset, batch_size=64, shuffle=True)\n",
    "test_loader = DataLoader(test_dataset, batch_size=64, shuffle=False)\n",
    "\n",
    "# Set up loss function and optimizer\n",
    "criterion = nn.CrossEntropyLoss()  # For multi-class classification\n",
    "optimizer = optim.Adam(model.parameters(), lr=0.001)\n",
    "\n",
    "# Training loop\n",
    "for epoch in range(5):  # Train for 5 epochs\n",
    "    model.train()  # Set model to training mode\n",
    "    running_loss = 0.0\n",
    "    correct = 0\n",
    "    total = 0\n",
    "\n",
    "    for inputs, labels in train_loader:\n",
    "        inputs, labels = inputs.to(device), labels.to(device)  # Move to device\n",
    "\n",
    "        optimizer.zero_grad()  # Zero gradients\n",
    "        outputs = model(inputs.view(-1, 28 * 28))  # Flatten images to 784 features\n",
    "        loss = criterion(outputs, labels)  # Calculate loss\n",
    "        loss.backward()  # Backpropagation\n",
    "        optimizer.step()  # Update model parameters\n",
    "\n",
    "        running_loss += loss.item()\n",
    "        _, predicted = torch.max(outputs, 1)  # Get predicted class\n",
    "        total += labels.size(0)\n",
    "        correct += (predicted == labels).sum().item()\n",
    "\n",
    "    # Print stats after each epoch\n",
    "    print(f\"Epoch [{epoch+1}/5], Loss: {running_loss/len(train_loader):.4f}, Accuracy: {100*correct/total:.2f}%\")\n",
    "\n",
    "# Evaluate on the test set\n",
    "model.eval()  # Set model to evaluation mode\n",
    "correct = 0\n",
    "total = 0\n",
    "with torch.no_grad():  # Disable gradient calculation (faster and memory-efficient)\n",
    "    for inputs, labels in test_loader:\n",
    "        inputs, labels = inputs.to(device), labels.to(device)  # Move to device\n",
    "        outputs = model(inputs.view(-1, 28 * 28))  # Flatten images to 784 features\n",
    "        _, predicted = torch.max(outputs, 1)  # Get predicted class\n",
    "        total += labels.size(0)\n",
    "        correct += (predicted == labels).sum().item()\n",
    "\n",
    "# Print final accuracy on the test set\n",
    "print(f\"Test Accuracy: {100 * correct / total:.2f}%\")\n",
    "\n",
    "# Function to handle user drawing on canvas\n",
    "def draw_digit():\n",
    "    fig, ax = plt.subplots(figsize=(5,5))\n",
    "    ax.set_xticks([])  # Remove x ticks\n",
    "    ax.set_yticks([])  # Remove y ticks\n",
    "    ax.set_facecolor('black')  # Set background to black\n",
    "\n",
    "    # Initialize canvas (white background, for easier drawing)\n",
    "    canvas = np.ones((28, 28)) * 255  # white canvas (for drawing)\n",
    "\n",
    "    # Function to update the canvas as user draws\n",
    "    def on_mouse_move(event):\n",
    "        if event.button == 1:  # Left mouse button pressed\n",
    "            x, y = int(event.xdata), int(event.ydata)\n",
    "            if 0 <= x < 28 and 0 <= y < 28:  # Make sure coordinates are within the canvas\n",
    "                canvas[y, x] = 0  # Draw black pixel where mouse moves\n",
    "\n",
    "        ax.imshow(canvas, cmap='gray')\n",
    "        fig.canvas.draw()\n",
    "\n",
    "    fig.canvas.mpl_connect('motion_notify_event', on_mouse_move)\n",
    "    plt.title(\"Draw a digit (0-9). Left click and hold to draw.\")\n",
    "\n",
    "    plt.show()\n",
    "\n",
    "    # Wait for user to press Enter after drawing\n",
    "    input(\"Press Enter when you're done drawing...\")\n",
    "\n",
    "    # Save the canvas as an image and process it\n",
    "    image = Image.fromarray(canvas).convert('L')\n",
    "    image = image.resize((28, 28))  # Resize to 28x28\n",
    "    image = transform(image).unsqueeze(0).to(device)  # Convert to tensor and move to device\n",
    "\n",
    "    return image\n",
    "\n",
    "# Function to predict the drawn number\n",
    "def predict_digit(image):\n",
    "    model.eval()  # Set the model to evaluation mode\n",
    "    with torch.no_grad():  # No need for gradient calculation\n",
    "        outputs = model(image.view(-1, 28 * 28))  # Flatten the image to 784 features\n",
    "        _, predicted = torch.max(outputs, 1)  # Get predicted class\n",
    "        return predicted.item()  # Return the predicted digit\n",
    "\n",
    "# Main program\n",
    "if __name__ == \"__main__\":\n",
    "    image = draw_digit()  # Let the user draw a digit\n",
    "    predicted_digit = predict_digit(image)  # Predict the digit\n",
    "    print(f\"The predicted digit is: {predicted_digit}\")\n"
   ]
  },
  {
   "cell_type": "code",
   "execution_count": null,
   "metadata": {},
   "outputs": [],
   "source": []
  }
 ],
 "metadata": {
  "kernelspec": {
   "display_name": "gpu_env",
   "language": "python",
   "name": "python3"
  },
  "language_info": {
   "codemirror_mode": {
    "name": "ipython",
    "version": 3
   },
   "file_extension": ".py",
   "mimetype": "text/x-python",
   "name": "python",
   "nbconvert_exporter": "python",
   "pygments_lexer": "ipython3",
   "version": "3.11.9"
  }
 },
 "nbformat": 4,
 "nbformat_minor": 2
}
